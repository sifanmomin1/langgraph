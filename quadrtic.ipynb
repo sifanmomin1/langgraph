{
 "cells": [
  {
   "cell_type": "code",
   "execution_count": 2,
   "metadata": {},
   "outputs": [],
   "source": [
    "from langgraph.graph import StateGraph,START,END\n",
    "from typing import TypedDict,Annotated,Literal\n"
   ]
  },
  {
   "cell_type": "code",
   "execution_count": 3,
   "metadata": {},
   "outputs": [],
   "source": [
    "class QuadState(TypedDict):\n",
    "    a:int\n",
    "    b:int\n",
    "    c:int\n",
    "    equation : str\n",
    "    discrimiant : float\n",
    "    result : str"
   ]
  },
  {
   "cell_type": "code",
   "execution_count": 5,
   "metadata": {},
   "outputs": [],
   "source": [
    "graph = StateGraph(QuadState)"
   ]
  },
  {
   "cell_type": "code",
   "execution_count": 7,
   "metadata": {},
   "outputs": [],
   "source": [
    "def show_equation(state: QuadState):\n",
    "    equation = f'{state[\"a\"]}x2{state[\"b\"]}x{state[\"c\"]}'\n",
    "    return {'equation':equation}\n",
    "\n",
    "\n",
    "def calcualte_discrimant(state: QuadState):\n",
    "    discrimiant = (state['b']**2 - (4*state['a']*state['c']))\n",
    "    return {'discrimiant':discrimiant}"
   ]
  },
  {
   "cell_type": "code",
   "execution_count": 18,
   "metadata": {},
   "outputs": [],
   "source": [
    "def real_roots(state:QuadState):\n",
    "    root1 = (-state['b'] + state['discrimiant']**0.5)/(2*state['a'])\n",
    "    root2 = (-state['b'] - state['discrimiant']**0.5)/(2*state['a'])\n",
    "    result = f'The Roots are {root1} and {root2}'\n",
    "    return {'result':result}"
   ]
  },
  {
   "cell_type": "code",
   "execution_count": 19,
   "metadata": {},
   "outputs": [],
   "source": [
    "def reapated_roots(state:QuadState):\n",
    "    root = (-state['b'])/(2*state['a'])\n",
    "    result = f'Only Reapting Roots are {root}'\n",
    "    return {'result':result}"
   ]
  },
  {
   "cell_type": "code",
   "execution_count": 20,
   "metadata": {},
   "outputs": [],
   "source": [
    "def no_real_roots(state:QuadState):\n",
    "    result = f'No Real Roots'\n",
    "    return {'result':result}"
   ]
  },
  {
   "cell_type": "code",
   "execution_count": 24,
   "metadata": {},
   "outputs": [],
   "source": [
    "def check_condition(state:QuadState) -> Literal['real_roots','reapated_roots','no_real_roots']:\n",
    "    if state['discrimiant'] > 0 :\n",
    "        return 'real_roots'\n",
    "    elif state['discrimiant'] ==0:\n",
    "        return 'reapated_roots'\n",
    "    else :\n",
    "        return 'no_real_roots'\n",
    "    "
   ]
  },
  {
   "cell_type": "code",
   "execution_count": 28,
   "metadata": {},
   "outputs": [
    {
     "name": "stderr",
     "output_type": "stream",
     "text": [
      "Adding a node to a graph that has already been compiled. This will not be reflected in the compiled graph.\n",
      "Adding a node to a graph that has already been compiled. This will not be reflected in the compiled graph.\n",
      "Adding a node to a graph that has already been compiled. This will not be reflected in the compiled graph.\n",
      "Adding an edge to a graph that has already been compiled. This will not be reflected in the compiled graph.\n",
      "Adding an edge to a graph that has already been compiled. This will not be reflected in the compiled graph.\n",
      "Adding an edge to a graph that has already been compiled. This will not be reflected in the compiled graph.\n",
      "Adding an edge to a graph that has already been compiled. This will not be reflected in the compiled graph.\n",
      "Adding an edge to a graph that has already been compiled. This will not be reflected in the compiled graph.\n",
      "Adding an edge to a graph that has already been compiled. This will not be reflected in the compiled graph.\n",
      "Adding an edge to a graph that has already been compiled. This will not be reflected in the compiled graph.\n"
     ]
    },
    {
     "data": {
      "text/plain": [
       "<langgraph.graph.state.StateGraph at 0x7f44707fbe50>"
      ]
     },
     "execution_count": 28,
     "metadata": {},
     "output_type": "execute_result"
    }
   ],
   "source": [
    "if 'show_equation' not in graph.nodes:\n",
    "    graph.add_node('show_equation',show_equation)\n",
    "\n",
    "if 'calcualte_discrimant' not in graph.nodes:\n",
    "    graph.add_node('calcualte_discrimant',calcualte_discrimant)\n",
    "    \n",
    "graph.add_node('real_roots',real_roots)\n",
    "\n",
    "graph.add_node('reapated_roots',reapated_roots)\n",
    "graph.add_node('no_real_roots',no_real_roots)\n",
    "\n",
    "\n",
    "graph.add_edge(START,'show_equation')\n",
    "graph.add_edge('show_equation','calcualte_discrimant')\n",
    "graph.add_conditional_edges('calcualte_discrimant',check_condition)\n",
    "graph.add_edge('real_roots',END)\n",
    "graph.add_edge('reapated_roots',END)\n",
    "graph.add_edge('no_real_roots',END)\n",
    "graph.add_edge('calcualte_discrimant',END)\n",
    "\n",
    "\n"
   ]
  },
  {
   "cell_type": "code",
   "execution_count": null,
   "metadata": {},
   "outputs": [],
   "source": []
  },
  {
   "cell_type": "code",
   "execution_count": 29,
   "metadata": {},
   "outputs": [],
   "source": [
    "workflow =graph.compile()"
   ]
  },
  {
   "cell_type": "code",
   "execution_count": 30,
   "metadata": {},
   "outputs": [
    {
     "data": {
      "image/png": "[encoded data removed]",
      "text/plain": [
       "<langgraph.graph.state.CompiledStateGraph object at 0x7f44701bc5e0>"
      ]
     },
     "execution_count": 30,
     "metadata": {},
     "output_type": "execute_result"
    }
   ],
   "source": [
    "workflow"
   ]
  },
  {
   "cell_type": "code",
   "execution_count": 31,
   "metadata": {},
   "outputs": [
    {
     "data": {
      "text/plain": [
       "{'a': 4,\n",
       " 'b': -5,\n",
       " 'c': -4,\n",
       " 'equation': '4x2-5x-4',\n",
       " 'discrimiant': 89,\n",
       " 'result': 'The Roots are 1.8042476415070754 and -0.5542476415070754'}"
      ]
     },
     "execution_count": 31,
     "metadata": {},
     "output_type": "execute_result"
    }
   ],
   "source": [
    "inital_state = {\n",
    "    'a' : 4,\n",
    "    'b' : -5,\n",
    "    'c' : -4\n",
    "}\n",
    "\n",
    "workflow.invoke(inital_state)"
   ]
  },
  {
   "cell_type": "code",
   "execution_count": null,
   "metadata": {},
   "outputs": [],
   "source": []
  }
 ],
 "metadata": {
  "kernelspec": {
   "display_name": "env",
   "language": "python",
   "name": "python3"
  },
  "language_info": {
   "codemirror_mode": {
    "name": "ipython",
    "version": 3
   },
   "file_extension": ".py",
   "mimetype": "text/x-python",
   "name": "python",
   "nbconvert_exporter": "python",
   "pygments_lexer": "ipython3",
   "version": "3.10.16"
  }
 },
 "nbformat": 4,
 "nbformat_minor": 2
}
