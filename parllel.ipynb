{
 "cells": [
  {
   "cell_type": "code",
   "execution_count": 1,
   "metadata": {},
   "outputs": [],
   "source": [
    "from langgraph.graph import StateGraph,START,END\n",
    "from typing import TypedDict\n"
   ]
  },
  {
   "cell_type": "code",
   "execution_count": 2,
   "metadata": {},
   "outputs": [],
   "source": [
    "class Batsmanstate(TypedDict):\n",
    "    runs: int\n",
    "    balls: int\n",
    "    fours: int\n",
    "    six: int  \n",
    "\n",
    "    sr :float\n",
    "    bnp: float\n",
    "    boundary_percent: float\n",
    "    summary:str"
   ]
  },
  {
   "cell_type": "code",
   "execution_count": 3,
   "metadata": {},
   "outputs": [],
   "source": [
    "def calculate_sr(state:Batsmanstate):\n",
    "    sr = state['runs']/state['balls']/100\n",
    "    return {'sr':sr}"
   ]
  },
  {
   "cell_type": "code",
   "execution_count": 12,
   "metadata": {},
   "outputs": [],
   "source": [
    "def calcualte_bpd(state:Batsmanstate):\n",
    "    bnp = (state['balls']/state['fours']+state['balls']/state['six'])\n",
    "    return {'bnp':bnp}"
   ]
  },
  {
   "cell_type": "code",
   "execution_count": 13,
   "metadata": {},
   "outputs": [],
   "source": [
    "def calcualte_boundary_perecent(state:Batsmanstate):\n",
    "    boundary_percent = (((state['fours']* 4) + (state['six']*6))/state['runs'])\n",
    "    return {'boundary_percent':boundary_percent}"
   ]
  },
  {
   "cell_type": "code",
   "execution_count": 14,
   "metadata": {},
   "outputs": [],
   "source": [
    "def summary(state:Batsmanstate):\n",
    "    summary = f\"\"\"\n",
    "Strike Rate - {state['sr']}/n \n",
    "Balls per boundary - {state['bnp']}/n\n",
    "Boundary_percent -{state['boundary_percent']}\n",
    "\"\"\"\n",
    "\n",
    "    return { 'summary':summary}"
   ]
  },
  {
   "cell_type": "code",
   "execution_count": 15,
   "metadata": {},
   "outputs": [
    {
     "data": {
      "text/plain": [
       "<langgraph.graph.state.StateGraph at 0x7f52d4903fa0>"
      ]
     },
     "execution_count": 15,
     "metadata": {},
     "output_type": "execute_result"
    }
   ],
   "source": [
    "graph = StateGraph(Batsmanstate)\n",
    "\n",
    "graph.add_node('calculate_sr',calculate_sr)\n",
    "graph.add_node('calcualte_bpd',calcualte_bpd)\n",
    "graph.add_node('calcualte_boundary_perecent',calcualte_boundary_perecent)\n",
    "graph.add_node('summary',summary)"
   ]
  },
  {
   "cell_type": "code",
   "execution_count": 16,
   "metadata": {},
   "outputs": [
    {
     "data": {
      "text/plain": [
       "<langgraph.graph.state.StateGraph at 0x7f52d4903fa0>"
      ]
     },
     "execution_count": 16,
     "metadata": {},
     "output_type": "execute_result"
    }
   ],
   "source": [
    "graph.add_edge(START,'calculate_sr')\n",
    "graph.add_edge(START,'calcualte_bpd')\n",
    "graph.add_edge(START,'calcualte_boundary_perecent')\n",
    "\n",
    "graph.add_edge('calculate_sr','summary')\n",
    "graph.add_edge('calcualte_bpd','summary')\n",
    "graph.add_edge('calcualte_boundary_perecent','summary')\n",
    "graph.add_edge('summary',END)"
   ]
  },
  {
   "cell_type": "code",
   "execution_count": 17,
   "metadata": {},
   "outputs": [],
   "source": [
    "workflow = graph.compile()"
   ]
  },
  {
   "cell_type": "code",
   "execution_count": 18,
   "metadata": {},
   "outputs": [
    {
     "data": {
      "image/png": "[encoded data removed]",
      "text/plain": [
       "<langgraph.graph.state.CompiledStateGraph object at 0x7f52ec288790>"
      ]
     },
     "execution_count": 18,
     "metadata": {},
     "output_type": "execute_result"
    }
   ],
   "source": [
    "workflow"
   ]
  },
  {
   "cell_type": "code",
   "execution_count": 19,
   "metadata": {},
   "outputs": [
    {
     "data": {
      "text/plain": [
       "{'runs': 100,\n",
       " 'balls': 50,\n",
       " 'fours': 6,\n",
       " 'six': 4,\n",
       " 'sr': 0.02,\n",
       " 'bnp': 20.833333333333336,\n",
       " 'boundary_percent': 0.48,\n",
       " 'summary': '\\nStrike Rate - 0.02/n \\nBalls per boundary - 20.833333333333336/n\\nBoundary_percent -0.48\\n'}"
      ]
     },
     "execution_count": 19,
     "metadata": {},
     "output_type": "execute_result"
    }
   ],
   "source": [
    "inital_state = {\n",
    "    'runs':100,\n",
    "    'balls':50,\n",
    "    'fours':6,\n",
    "    'six':4\n",
    "}\n",
    "workflow.invoke(inital_state)"
   ]
  },
  {
   "cell_type": "code",
   "execution_count": null,
   "metadata": {},
   "outputs": [],
   "source": []
  }
 ],
 "metadata": {
  "kernelspec": {
   "display_name": "env",
   "language": "python",
   "name": "python3"
  },
  "language_info": {
   "codemirror_mode": {
    "name": "ipython",
    "version": 3
   },
   "file_extension": ".py",
   "mimetype": "text/x-python",
   "name": "python",
   "nbconvert_exporter": "python",
   "pygments_lexer": "ipython3",
   "version": "3.10.16"
  }
 },
 "nbformat": 4,
 "nbformat_minor": 2
}
