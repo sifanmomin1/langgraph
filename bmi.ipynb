{
 "cells": [
  {
   "cell_type": "code",
   "execution_count": 2,
   "metadata": {},
   "outputs": [
    {
     "name": "stdout",
     "output_type": "stream",
     "text": [
      "\u001b[2mUsing Python 3.10.16 environment at: env\u001b[0m\n",
      "\u001b[2mAudited \u001b[1m1 package\u001b[0m \u001b[2min 2ms\u001b[0m\u001b[0m\n"
     ]
    }
   ],
   "source": [
    "!uv pip install langgraph\n"
   ]
  },
  {
   "cell_type": "code",
   "execution_count": 11,
   "metadata": {},
   "outputs": [],
   "source": [
    "from langgraph.graph import StateGraph, START, END\n",
    "from typing import TypedDict"
   ]
  },
  {
   "cell_type": "code",
   "execution_count": 7,
   "metadata": {},
   "outputs": [],
   "source": [
    "# define state"
   ]
  },
  {
   "cell_type": "code",
   "execution_count": 15,
   "metadata": {},
   "outputs": [],
   "source": [
    "class BMISTATE(TypedDict):\n",
    "    weight_kg : float\n",
    "    height_cm : float\n",
    "    bmi : float\n",
    "    category : str\n",
    "\n",
    "\n",
    "\n"
   ]
  },
  {
   "cell_type": "code",
   "execution_count": 9,
   "metadata": {},
   "outputs": [],
   "source": [
    "def calculate_bmi(state: BMISTATE) -> BMISTATE:\n",
    "    weight = state[\"weight_kg\"] \n",
    "    height = state[\"height_cm\"] \n",
    "    bmi = weight / (height / 100) ** 2\n",
    "    state[\"bmi\"] = round(bmi,2)\n",
    "    return state\n"
   ]
  },
  {
   "cell_type": "code",
   "execution_count": 16,
   "metadata": {},
   "outputs": [],
   "source": [
    "def get_category(state: BMISTATE) -> BMISTATE:\n",
    "    bmi = state[\"bmi\"]\n",
    "    if bmi < 18.5:\n",
    "        state[\"category\"] = \"Underweight\"\n",
    "    elif bmi < 24.9:\n",
    "        state[\"category\"] = \"Normal weight\"\n",
    "    return state"
   ]
  },
  {
   "cell_type": "code",
   "execution_count": 17,
   "metadata": {},
   "outputs": [],
   "source": [
    "# define graph\n",
    "graph = StateGraph(BMISTATE)\n",
    "# add nodes \n",
    "graph.add_node(\"calculate_bmi\", calculate_bmi)\n",
    "graph.add_node(\"label_category\", get_category)\n",
    "# add edges \n",
    "graph.add_edge(START, \"calculate_bmi\")\n",
    "graph.add_edge(\"calculate_bmi\", \"label_category\")\n",
    "graph.add_edge(\"label_category\", END)\n",
    "\n",
    "# complile the graph\n",
    "workflow =  graph.compile()\n",
    "#execute the graph\n"
   ]
  },
  {
   "cell_type": "code",
   "execution_count": 19,
   "metadata": {},
   "outputs": [
    {
     "data": {
      "text/plain": [
       "{'weight_kg': 70, 'height_cm': 170, 'bmi': 24.22, 'category': 'Normal weight'}"
      ]
     },
     "execution_count": 19,
     "metadata": {},
     "output_type": "execute_result"
    }
   ],
   "source": [
    "workflow.invoke({\"weight_kg\": 70, \"height_cm\": 170})\n"
   ]
  },
  {
   "cell_type": "code",
   "execution_count": 18,
   "metadata": {},
   "outputs": [
    {
     "data": {
      "image/png": "[encoded data removed]",
      "text/plain": [
       "<IPython.core.display.Image object>"
      ]
     },
     "metadata": {},
     "output_type": "display_data"
    }
   ],
   "source": [
    "from IPython.display import Image, display\n",
    "\n",
    "display(Image(workflow.get_graph().draw_mermaid_png()))"
   ]
  },
  {
   "cell_type": "code",
   "execution_count": null,
   "metadata": {},
   "outputs": [],
   "source": []
  }
 ],
 "metadata": {
  "kernelspec": {
   "display_name": "env",
   "language": "python",
   "name": "python3"
  },
  "language_info": {
   "codemirror_mode": {
    "name": "ipython",
    "version": 3
   },
   "file_extension": ".py",
   "mimetype": "text/x-python",
   "name": "python",
   "nbconvert_exporter": "python",
   "pygments_lexer": "ipython3",
   "version": "3.10.16"
  }
 },
 "nbformat": 4,
 "nbformat_minor": 2
}
